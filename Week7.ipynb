{
 "cells": [
  {
   "cell_type": "code",
   "execution_count": 2,
   "metadata": {},
   "outputs": [
    {
     "name": "stdout",
     "output_type": "stream",
     "text": [
      "[0]\n"
     ]
    }
   ],
   "source": [
    "import numpy as np\n",
    "\n",
    "from sklearn.naive_bayes import GaussianNB\n",
    "\n",
    "X = np.array([[0,0,0,0],\n",
    "[0,0,0,1],\n",
    "[1,0,0,0],\n",
    "[2,1,0,0],\n",
    "[2,2,1,0],\n",
    "[2,2,1,1],\n",
    "[1,2,1,1],\n",
    "[0,1,0,0],\n",
    "[0,2,1,0],\n",
    "[2,1,1,0],\n",
    "[0,1,1,1],\n",
    "[1,1,0,1],\n",
    "[1,0,1,0],\n",
    "[2,1,0,1]])\n",
    "#Y=Label\n",
    "Y=np.array([0, 0, 1, 1, 1, 0, 1, 0, 1, 1, 1, 1, 1, 0])\n",
    "model=GaussianNB()\n",
    "model.fit(X,Y)\n",
    "print(model.predict([[0,0,0,1]]))"
   ]
  },
  {
   "cell_type": "code",
   "execution_count": null,
   "metadata": {},
   "outputs": [],
   "source": []
  }
 ],
 "metadata": {
  "kernelspec": {
   "display_name": "base",
   "language": "python",
   "name": "python3"
  },
  "language_info": {
   "codemirror_mode": {
    "name": "ipython",
    "version": 3
   },
   "file_extension": ".py",
   "mimetype": "text/x-python",
   "name": "python",
   "nbconvert_exporter": "python",
   "pygments_lexer": "ipython3",
   "version": "3.12.7"
  }
 },
 "nbformat": 4,
 "nbformat_minor": 2
}
