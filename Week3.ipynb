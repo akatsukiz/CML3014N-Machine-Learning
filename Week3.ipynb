{
 "cells": [
  {
   "cell_type": "code",
   "execution_count": 1,
   "metadata": {},
   "outputs": [
    {
     "name": "stdout",
     "output_type": "stream",
     "text": [
      "    Name  Age\n",
      "0  Alice   15\n",
      "1  Billy   12\n",
      "2  Cindy   13\n",
      "3  Dicky   16\n",
      "4  Edwin   14\n",
      "5  Felix   19\n"
     ]
    }
   ],
   "source": [
    "import pandas as pd\n",
    "df = pd.DataFrame({'Name': ['Alice', 'Billy', 'Cindy', 'Dicky', 'Edwin', 'Felix'], 'Age': [15, 12, 13, 16, 14, 19]})\n",
    "print(df)"
   ]
  },
  {
   "cell_type": "code",
   "execution_count": 3,
   "metadata": {},
   "outputs": [
    {
     "name": "stdout",
     "output_type": "stream",
     "text": [
      "   Commercials Watched  Product Purchases\n",
      "0                   10                 13\n",
      "1                   15                  0\n",
      "2                    7                  7\n",
      "3                    2                  4\n",
      "4                   16                 11\n"
     ]
    }
   ],
   "source": [
    "import pandas as pd\n",
    "df = pd.DataFrame({\"Commercials Watched\": [10, 15, 7, 2, 16], \"Product Purchases\": [13, 0, 7, 4, 11]})\n",
    "print(df)"
   ]
  },
  {
   "cell_type": "code",
   "execution_count": 4,
   "metadata": {},
   "outputs": [
    {
     "name": "stdout",
     "output_type": "stream",
     "text": [
      "<bound method DataFrame.cov of    Commercials Watched  Product Purchases\n",
      "0                   10                 13\n",
      "1                   15                  0\n",
      "2                    7                  7\n",
      "3                    2                  4\n",
      "4                   16                 11>\n"
     ]
    }
   ],
   "source": [
    "import pandas as pd\n",
    "df = pd.DataFrame({\"Commercials Watched\": [10, 15, 7, 2, 16], \"Product Purchases\": [13, 0, 7, 4, 11]})\n",
    "print(df.cov)"
   ]
  },
  {
   "cell_type": "code",
   "execution_count": 5,
   "metadata": {},
   "outputs": [
    {
     "data": {
      "text/html": [
       "<div>\n",
       "<style scoped>\n",
       "    .dataframe tbody tr th:only-of-type {\n",
       "        vertical-align: middle;\n",
       "    }\n",
       "\n",
       "    .dataframe tbody tr th {\n",
       "        vertical-align: top;\n",
       "    }\n",
       "\n",
       "    .dataframe thead th {\n",
       "        text-align: right;\n",
       "    }\n",
       "</style>\n",
       "<table border=\"1\" class=\"dataframe\">\n",
       "  <thead>\n",
       "    <tr style=\"text-align: right;\">\n",
       "      <th></th>\n",
       "      <th>Commercials Watched</th>\n",
       "      <th>Product Purchases</th>\n",
       "    </tr>\n",
       "  </thead>\n",
       "  <tbody>\n",
       "    <tr>\n",
       "      <th>Commercials Watched</th>\n",
       "      <td>33.50</td>\n",
       "      <td>3.25</td>\n",
       "    </tr>\n",
       "    <tr>\n",
       "      <th>Product Purchases</th>\n",
       "      <td>3.25</td>\n",
       "      <td>27.50</td>\n",
       "    </tr>\n",
       "  </tbody>\n",
       "</table>\n",
       "</div>"
      ],
      "text/plain": [
       "                     Commercials Watched  Product Purchases\n",
       "Commercials Watched                33.50               3.25\n",
       "Product Purchases                   3.25              27.50"
      ]
     },
     "execution_count": 5,
     "metadata": {},
     "output_type": "execute_result"
    }
   ],
   "source": [
    "df.cov()"
   ]
  },
  {
   "cell_type": "code",
   "execution_count": 6,
   "metadata": {},
   "outputs": [
    {
     "data": {
      "text/html": [
       "<div>\n",
       "<style scoped>\n",
       "    .dataframe tbody tr th:only-of-type {\n",
       "        vertical-align: middle;\n",
       "    }\n",
       "\n",
       "    .dataframe tbody tr th {\n",
       "        vertical-align: top;\n",
       "    }\n",
       "\n",
       "    .dataframe thead th {\n",
       "        text-align: right;\n",
       "    }\n",
       "</style>\n",
       "<table border=\"1\" class=\"dataframe\">\n",
       "  <thead>\n",
       "    <tr style=\"text-align: right;\">\n",
       "      <th></th>\n",
       "      <th>Commercials Watched</th>\n",
       "      <th>Product Purchases</th>\n",
       "    </tr>\n",
       "  </thead>\n",
       "  <tbody>\n",
       "    <tr>\n",
       "      <th>Commercials Watched</th>\n",
       "      <td>1.000000</td>\n",
       "      <td>0.107077</td>\n",
       "    </tr>\n",
       "    <tr>\n",
       "      <th>Product Purchases</th>\n",
       "      <td>0.107077</td>\n",
       "      <td>1.000000</td>\n",
       "    </tr>\n",
       "  </tbody>\n",
       "</table>\n",
       "</div>"
      ],
      "text/plain": [
       "                     Commercials Watched  Product Purchases\n",
       "Commercials Watched             1.000000           0.107077\n",
       "Product Purchases               0.107077           1.000000"
      ]
     },
     "execution_count": 6,
     "metadata": {},
     "output_type": "execute_result"
    }
   ],
   "source": [
    "df.corr()"
   ]
  },
  {
   "cell_type": "code",
   "execution_count": 8,
   "metadata": {},
   "outputs": [
    {
     "name": "stdout",
     "output_type": "stream",
     "text": [
      "ZeroR Accuracy: 0.64\n"
     ]
    },
    {
     "data": {
      "image/png": "[encoded data removed]",
      "text/plain": [
       "<Figure size 800x600 with 1 Axes>"
      ]
     },
     "metadata": {},
     "output_type": "display_data"
    }
   ],
   "source": [
    "#Zero R\n",
    "import pandas as pd\n",
    "import matplotlib.pyplot as plt\n",
    "\n",
    "# Define the dataset\n",
    "data = {\n",
    "    'Outlook': ['Sunny', 'Sunny', 'Overcast', 'Rainy', 'Rainy', 'Rainy', 'Overcast', 'Sunny', 'Sunny', 'Rainy', 'Sunny', 'Overcast', 'Overcast', 'Rainy'],\n",
    "    'Temperature': ['Hot', 'Hot', 'Hot', 'Mild', 'Cool', 'Cool', 'Cool', 'Mild', 'Cool', 'Mild', 'Mild', 'Mild', 'Hot', 'Mild'],\n",
    "    'Humidity': ['High', 'High', 'High', 'High', 'Normal', 'Normal', 'Normal', 'High', 'Normal', 'Normal', 'Normal', 'High', 'Normal', 'High'],\n",
    "    'Windy': [False, True, False, False, False, True, True, False, False, False, True, True, False, True],\n",
    "    'Play Golf': ['No', 'No', 'Yes', 'Yes', 'Yes', 'No', 'Yes', 'No', 'Yes', 'Yes', 'Yes', 'Yes', 'Yes', 'No']\n",
    "}\n",
    "\n",
    "# Create a DataFrame\n",
    "df = pd.DataFrame(data)\n",
    "\n",
    "# ZeroR algorithm: Find the most frequent class in the target\n",
    "most_frequent_class = df['Play Golf'].mode()[0]\n",
    "df['Prediction_ZeroR'] = most_frequent_class\n",
    "\n",
    "# Calculate the accuracy of ZeroR\n",
    "accuracy_zeror = (df['Prediction_ZeroR'] == df['Play Golf']).mean()\n",
    "print(f'ZeroR Accuracy: {accuracy_zeror:.2f}')\n",
    "\n",
    "# Plotting the histogram for 'Play Golf'\n",
    "plt.figure(figsize=(8, 6))\n",
    "df['Play Golf'].value_counts().plot(kind='bar', color=['red', 'green'])\n",
    "plt.title('Histogram of Play Golf Decisions')\n",
    "plt.xlabel('Play Golf')\n",
    "plt.ylabel('Frequency')\n",
    "plt.xticks(rotation=0)\n",
    "plt.show()"
   ]
  },
  {
   "cell_type": "code",
   "execution_count": 9,
   "metadata": {},
   "outputs": [
    {
     "name": "stdout",
     "output_type": "stream",
     "text": [
      "Best Attribute: Outlook\n",
      "Rules:\n",
      "If Outlook is Sunny, then Play Golf is No\n",
      "If Outlook is Overcast, then Play Golf is Yes\n",
      "If Outlook is Rainy, then Play Golf is Yes\n",
      "Accuracy: 0.71\n"
     ]
    }
   ],
   "source": [
    "# One R\n",
    "import pandas as pd\n",
    "import numpy as np\n",
    "\n",
    "# Define the dataset\n",
    "data = {\n",
    "    'Outlook': ['Sunny', 'Sunny', 'Overcast', 'Rainy', 'Rainy', 'Rainy', 'Overcast', 'Sunny', 'Sunny', 'Rainy', 'Sunny', 'Overcast', 'Overcast', 'Rainy'],\n",
    "    'Temperature': ['Hot', 'Hot', 'Hot', 'Mild', 'Cool', 'Cool', 'Cool', 'Mild', 'Cool', 'Mild', 'Mild', 'Mild', 'Hot', 'Mild'],\n",
    "    'Humidity': ['High', 'High', 'High', 'High', 'Normal', 'Normal', 'Normal', 'High', 'Normal', 'Normal', 'Normal', 'High', 'Normal', 'High'],\n",
    "    'Windy': [False, True, False, False, False, True, True, False, False, False, True, True, False, True],\n",
    "    'Play Golf': ['No', 'No', 'Yes', 'Yes', 'Yes', 'No', 'Yes', 'No', 'Yes', 'Yes', 'Yes', 'Yes', 'Yes', 'No']\n",
    "}\n",
    "\n",
    "# Create a DataFrame\n",
    "df = pd.DataFrame(data)\n",
    "\n",
    "# Function to calculate the error for each attribute\n",
    "def calculate_error(df, attribute, target):\n",
    "    rules = {}\n",
    "    total_error = 0\n",
    "\n",
    "    for value in df[attribute].unique():\n",
    "        most_common_class = df[df[attribute] == value][target].mode()[0]\n",
    "        rules[value] = most_common_class\n",
    "        error = len(df[(df[attribute] == value) & (df[target] != most_common_class)])\n",
    "        total_error += error\n",
    "\n",
    "    return total_error, rules\n",
    "\n",
    "# OneR algorithm implementation\n",
    "def one_r(df, target):\n",
    "    min_error = float('inf')\n",
    "    best_attribute = None\n",
    "    best_rules = None\n",
    "\n",
    "    for attribute in df.columns.drop(target):\n",
    "        error, rules = calculate_error(df, attribute, target)\n",
    "        if error < min_error:\n",
    "            min_error = error\n",
    "            best_attribute = attribute\n",
    "            best_rules = rules\n",
    "\n",
    "    return best_attribute, best_rules\n",
    "\n",
    "# Apply the OneR algorithm to the dataset\n",
    "target = 'Play Golf'\n",
    "best_attribute, best_rules = one_r(df, target)\n",
    "\n",
    "# Display the best attribute and the corresponding rules\n",
    "print(f'Best Attribute: {best_attribute}')\n",
    "print('Rules:')\n",
    "for value, prediction in best_rules.items():\n",
    "    print(f'If {best_attribute} is {value}, then Play Golf is {prediction}')\n",
    "\n",
    "# Apply the learned rules to make predictions\n",
    "def predict(row, attribute, rules):\n",
    "    return rules[row[attribute]]\n",
    "\n",
    "# Add a prediction column to the DataFrame\n",
    "df['Prediction'] = df.apply(lambda row: predict(row, best_attribute, best_rules), axis=1)\n",
    "\n",
    "# Calculate the accuracy\n",
    "accuracy = np.mean(df['Prediction'] == df['Play Golf'])\n",
    "print(f'Accuracy: {accuracy:.2f}')\n"
   ]
  },
  {
   "cell_type": "code",
   "execution_count": 10,
   "metadata": {},
   "outputs": [
    {
     "name": "stdout",
     "output_type": "stream",
     "text": [
      "Regression line: y = 4.1x + 13.7\n",
      "\n",
      "Predicted values:\n",
      "x = 1, predicted y = 17.8\n",
      "x = 2, predicted y = 21.9\n",
      "x = 3, predicted y = 26.0\n",
      "x = 4, predicted y = 30.1\n",
      "x = 5, predicted y = 34.2\n"
     ]
    }
   ],
   "source": [
    "import numpy as np\n",
    "\n",
    "# Data\n",
    "x = np.array([1, 2, 3, 4, 5])\n",
    "y = np.array([18, 24, 23, 29, 36])\n",
    "\n",
    "# Calculate components\n",
    "N = len(x)\n",
    "sum_x = np.sum(x)\n",
    "sum_y = np.sum(y)\n",
    "sum_xy = np.sum(x * y)\n",
    "sum_x_squared = np.sum(x**2)\n",
    "\n",
    "# Calculate slope (m)\n",
    "m = (N * sum_xy - sum_x * sum_y) / (N * sum_x_squared - sum_x**2)\n",
    "\n",
    "# Calculate y-intercept (b)\n",
    "b = (sum_y - m * sum_x) / N\n",
    "\n",
    "print(f\"Regression line: y = {m:.1f}x + {b:.1f}\")\n",
    "\n",
    "# Optional: calculate predicted values\n",
    "predicted_y = m * x + b\n",
    "print(\"\\nPredicted values:\")\n",
    "for i, pred in enumerate(predicted_y):\n",
    "    print(f\"x = {x[i]}, predicted y = {pred:.1f}\")"
   ]
  },
  {
   "cell_type": "code",
   "execution_count": 13,
   "metadata": {},
   "outputs": [
    {
     "name": "stdout",
     "output_type": "stream",
     "text": [
      "Estimated coefficients:\n",
      "m = 4.1\n",
      "b = 13.7\n"
     ]
    },
    {
     "data": {
      "image/png": "[encoded data removed]",
      "text/plain": [
       "<Figure size 800x600 with 1 Axes>"
      ]
     },
     "metadata": {},
     "output_type": "display_data"
    }
   ],
   "source": [
    "import matplotlib.pyplot as plt\n",
    "import numpy as np\n",
    "\n",
    "# Data points\n",
    "x = np.array([1, 2, 3, 4, 5])\n",
    "y = np.array([18, 24, 23, 29, 36])\n",
    "\n",
    "# Calculate regression coefficients\n",
    "N = len(x)\n",
    "m = (N * np.sum(x*y) - np.sum(x)*np.sum(y)) / (N * np.sum(x**2) - np.sum(x)**2)\n",
    "b = (np.sum(y) - m*np.sum(x)) / N\n",
    "\n",
    "# Generate points for the regression line\n",
    "x_line = np.linspace(min(x), max(x), 100)\n",
    "y_line = m * x_line + b\n",
    "\n",
    "# Create the plot\n",
    "plt.figure(figsize=(8, 6))\n",
    "\n",
    "# Plot scatter points\n",
    "plt.scatter(x, y, color=\"black\", marker=\"o\", s=30)\n",
    "\n",
    "# Plot regression line\n",
    "plt.plot(x_line, y_line, color=\"blue\")\n",
    "\n",
    "# Add labels and title\n",
    "plt.xlabel('x')\n",
    "plt.ylabel('y')\n",
    "plt.title('Linear Regression')\n",
    "\n",
    "# Display the coefficients\n",
    "print(f\"Estimated coefficients:\")\n",
    "print(f\"m = {m}\")\n",
    "print(f\"b = {b}\")\n",
    "\n",
    "plt.grid(True, alpha=0.3)\n",
    "plt.show()"
   ]
  },
  {
   "cell_type": "code",
   "execution_count": 15,
   "metadata": {},
   "outputs": [
    {
     "data": {
      "image/png": "[encoded data removed]",
      "text/plain": [
       "<Figure size 640x480 with 1 Axes>"
      ]
     },
     "metadata": {},
     "output_type": "display_data"
    },
    {
     "name": "stdout",
     "output_type": "stream",
     "text": [
      "Estimated coefficients:\n",
      "m = 4.1\n",
      "b = 13.7\n"
     ]
    },
    {
     "data": {
      "text/plain": [
       "32.15"
      ]
     },
     "execution_count": 15,
     "metadata": {},
     "output_type": "execute_result"
    },
    {
     "data": {
      "image/png": "[encoded data removed]",
      "text/plain": [
       "<Figure size 640x480 with 1 Axes>"
      ]
     },
     "metadata": {},
     "output_type": "display_data"
    }
   ],
   "source": [
    "# Lecturer's ans\n",
    "import matplotlib.pyplot as plt  # for graph plotting\n",
    "import numpy as np # forming array\n",
    "x = np.array([1,2,3,4,5])\n",
    "y = np.array([18,24,23,29,36])\n",
    "plt.scatter(x,y, color=\"red\", marker=\"o\", s=30)\n",
    "plt.show()\n",
    "\n",
    "n=np.size(x)\n",
    "sumx=sum(x)\n",
    "sumy= sum(y)\n",
    "sumxx= sum(x**2)\n",
    "sumxy= sum(x*y)\n",
    "m=(n*sumxy-sumx*sumy)/(n*sumxx-sumx**2)\n",
    "b=(sumy-m*sumx)/n\n",
    "print(\"Estimated coefficients:\")\n",
    "print(\"m =\",m)\n",
    "print(\"b =\",b)\n",
    "y_fn=m*x+b\n",
    "plt.scatter(x,y, color=\"red\", marker=\"o\", s=30)\n",
    "plt.plot(x,y_fn, color=\"blue\")\n",
    "plt.xlabel('x')\n",
    "plt.ylabel('y')\n",
    "\n",
    "#interpolation\n",
    "#predict the value of y for x = 4.5\n",
    "y_fn=m*4.5+b\n",
    "y_fn"
   ]
  },
  {
   "cell_type": "code",
   "execution_count": null,
   "metadata": {},
   "outputs": [],
   "source": []
  }
 ],
 "metadata": {
  "kernelspec": {
   "display_name": "base",
   "language": "python",
   "name": "python3"
  },
  "language_info": {
   "codemirror_mode": {
    "name": "ipython",
    "version": 3
   },
   "file_extension": ".py",
   "mimetype": "text/x-python",
   "name": "python",
   "nbconvert_exporter": "python",
   "pygments_lexer": "ipython3",
   "version": "3.12.4"
  }
 },
 "nbformat": 4,
 "nbformat_minor": 2
}
