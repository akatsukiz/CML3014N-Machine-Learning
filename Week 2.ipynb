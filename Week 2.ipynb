{
 "cells": [
  {
   "cell_type": "code",
   "execution_count": 12,
   "metadata": {},
   "outputs": [
    {
     "name": "stdout",
     "output_type": "stream",
     "text": [
      "[0.1  0.25 0.08 0.15]\n"
     ]
    }
   ],
   "source": [
    "# Scaling Normalization\n",
    "import numpy as np\n",
    "df=np.array([10000, 25000, 8000, 15000]) #Use numpy array instead of list\n",
    "df_normalised = df/(10**5)\n",
    "print(df_normalised)"
   ]
  },
  {
   "cell_type": "code",
   "execution_count": 19,
   "metadata": {},
   "outputs": [
    {
     "name": "stdout",
     "output_type": "stream",
     "text": [
      "[0.1  0.25 0.08 0.15]\n"
     ]
    }
   ],
   "source": [
    "# Adjusted ver\n",
    "import numpy as np\n",
    "\n",
    "df = np.array([10000, 25000, 8000, 15000])\n",
    "j = len(str(np.max(df)))\n",
    "df_normalized = df / (10 ** j)\n",
    "\n",
    "print(df_normalized)"
   ]
  },
  {
   "cell_type": "code",
   "execution_count": 20,
   "metadata": {},
   "outputs": [
    {
     "name": "stdout",
     "output_type": "stream",
     "text": [
      "[0.1, 0.25, 0.08, 0.15]\n"
     ]
    }
   ],
   "source": [
    "# Lecturer's ans\n",
    "df = [10000, 25000, 8000, 15000]\n",
    "dfnorm = []\n",
    "maxnum = max(df)\n",
    "j = len (str(maxnum))\n",
    "for x in df:\n",
    "    dfnorm.append(x/(10**j))\n",
    "print(dfnorm)"
   ]
  },
  {
   "cell_type": "code",
   "execution_count": 30,
   "metadata": {},
   "outputs": [
    {
     "name": "stdout",
     "output_type": "stream",
     "text": [
      "[0.12 1.   0.   0.41]\n"
     ]
    }
   ],
   "source": [
    "# Min-Max Normalization\n",
    "import numpy as np\n",
    "\n",
    "df = np.array([10000, 25000, 8000, 15000])\n",
    "maxnum = max(df)\n",
    "minnum = min(df)\n",
    "diff = (maxnum - minnum)\n",
    "df_normalized = (df - minnum) / diff\n",
    "\n",
    "print(np.round((df_normalized),2))"
   ]
  },
  {
   "cell_type": "code",
   "execution_count": 33,
   "metadata": {},
   "outputs": [
    {
     "name": "stdout",
     "output_type": "stream",
     "text": [
      "[0.11764705882352941, 1.0, 0.0, 0.4117647058823529]\n"
     ]
    }
   ],
   "source": [
    "# Lecturer's ans\n",
    "df = [10000, 25000, 8000, 15000]\n",
    "maxnum = max(df)\n",
    "minnum = min(df)\n",
    "df2 = []\n",
    "for x in df:\n",
    "    df2.append((x-minnum)/(maxnum-minnum))\n",
    "print(df2)"
   ]
  },
  {
   "cell_type": "code",
   "execution_count": 42,
   "metadata": {},
   "outputs": [
    {
     "name": "stdout",
     "output_type": "stream",
     "text": [
      "Interquartile Range is 6.0\n",
      "low_limit is -4.0\n",
      "uigh_limit is 20.0\n",
      "Outlier in the dataset is (Ages) [25]\n",
      "[1, 2, 4, 8, 3, 8, 11, 12, 6, 6, 3, 6, 7, 12, 9, 5, 5, 7, 10, 10, 11, 12, 12, 11]\n"
     ]
    }
   ],
   "source": [
    "import numpy as np  \n",
    "import seaborn as sns\n",
    "from matplotlib import pyplot as plt\n",
    "kids_age = [1, 2, 4, 8, 3, 8, 11, 25, 12, 6, 6, 3, 6, 7, 12,9,5,5,7,10,10,11,12,12,11] \n",
    "Q1 = np.percentile(kids_age, 25, interpolation = 'midpoint')\n",
    "Q2 = np.percentile(kids_age, 50, interpolation = 'midpoint')  \n",
    "Q3 = np.percentile(kids_age, 75, interpolation = 'midpoint')\n",
    "IQR = Q3 - Q1\n",
    "low_limit = Q1-(1.5*IQR)\n",
    "high_limit = Q3+(1.5*IQR)\n",
    "outlier = []\n",
    "for x in kids_age:\n",
    "    if (x < low_limit) or (x > high_limit):\n",
    "        outlier.append(x)\n",
    "data_clean = [x for x in kids_age if x not in outlier]\n",
    "print('Interquartile Range is', IQR)\n",
    "print('low_limit is', low_limit)\n",
    "print('high_limit is', high_limit)\n",
    "print('Outlier in the dataset is (Ages)', outlier)\n",
    "print(data_clean)"
   ]
  },
  {
   "cell_type": "code",
   "execution_count": 56,
   "metadata": {},
   "outputs": [
    {
     "name": "stdout",
     "output_type": "stream",
     "text": [
      "Mean of the kids age in the given series: 8.24\n",
      "STD Deviation of the kids age in the given series: 4.78\n",
      "Outliers in the dataset (Ages): [25]\n",
      "[1, 2, 4, 8, 3, 8, 11, 12, 6, 6, 3, 6, 7, 12, 9, 5, 5, 7, 10, 10, 11, 12, 12, 11]\n"
     ]
    },
    {
     "data": {
      "image/png": "[encoded data removed]",
      "text/plain": [
       "<Figure size 640x480 with 1 Axes>"
      ]
     },
     "metadata": {},
     "output_type": "display_data"
    }
   ],
   "source": [
    "import numpy as np  \n",
    "import seaborn as sns\n",
    "kids_age = [1, 2, 4, 8, 3, 8, 11, 25, 12, 6, 6, 3, 6, 7, 12,9,5,5,7,10,10,11,12,12,11] \n",
    "\n",
    "mean = np.mean(kids_age)\n",
    "std = np.std(kids_age)\n",
    "print('Mean of the kid''s age in the given series:', round(mean,2))\n",
    "print('STD Deviation of the kid''s age in the given series:', round(std,2))\n",
    "\n",
    "z_scores = [(age-mean)/std for age in kids_age]\n",
    "outliers = []\n",
    "for i, z_score in enumerate(z_scores):\n",
    "    if abs(z_score)>3:\n",
    "        outliers.append(kids_age[i])\n",
    "\n",
    "print('Outliers in the dataset (Ages):', outliers)\n",
    "sns.boxplot(x=kids_age)\n",
    "\n",
    "print(data_clean)"
   ]
  },
  {
   "cell_type": "code",
   "execution_count": 57,
   "metadata": {},
   "outputs": [
    {
     "name": "stdout",
     "output_type": "stream",
     "text": [
      "Mean of the kids age in the given series : 8.24\n",
      "STD Deviation of kids age in the given series : 4.777279560586757\n",
      "Outlier in the dataset is (Ages): [25]\n",
      "[1, 2, 4, 8, 3, 8, 11, 12, 6, 6, 3, 6, 7, 12, 9, 5, 5, 7, 10, 10, 11, 12, 12, 11]\n"
     ]
    },
    {
     "data": {
      "image/png": "[encoded data removed]",
      "text/plain": [
       "<Figure size 640x480 with 1 Axes>"
      ]
     },
     "metadata": {},
     "output_type": "display_data"
    }
   ],
   "source": [
    "# Lecturer's ans\n",
    "import numpy as np  \n",
    "import seaborn as sns\n",
    "\n",
    "kids_age = [1, 2, 4, 8, 3, 8, 11, 25, 12, 6, 6, 3, 6, 7, 12,9,5,5,7,10,10,11,12,12,11] \n",
    "mean = np.mean(kids_age) \n",
    "std = np.std(kids_age) \n",
    "print('Mean of the kid''s age in the given series :', mean) \n",
    "print('STD Deviation of kid''s age in the given series :', std)\n",
    "threshold = 3\n",
    "outlier = [] \n",
    "data_clean=[]\n",
    "for i in kids_age: \n",
    "    z = (i-mean)/std \n",
    "    if z > threshold: \n",
    "        outlier.append(i)\n",
    "    else:\n",
    "        data_clean.append(i)\n",
    "print('Outlier in the dataset is (Ages):', outlier)\n",
    "sns.boxplot(x=kids_age)\n",
    "\n",
    "print(data_clean)"
   ]
  },
  {
   "cell_type": "code",
   "execution_count": null,
   "metadata": {},
   "outputs": [],
   "source": []
  }
 ],
 "metadata": {
  "kernelspec": {
   "display_name": "base",
   "language": "python",
   "name": "python3"
  },
  "language_info": {
   "codemirror_mode": {
    "name": "ipython",
    "version": 3
   },
   "file_extension": ".py",
   "mimetype": "text/x-python",
   "name": "python",
   "nbconvert_exporter": "python",
   "pygments_lexer": "ipython3",
   "version": "3.12.4"
  }
 },
 "nbformat": 4,
 "nbformat_minor": 2
}
